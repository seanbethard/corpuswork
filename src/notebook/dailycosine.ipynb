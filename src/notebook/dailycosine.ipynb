{
 "cells": [
  {
   "cell_type": "code",
   "execution_count": 5,
   "metadata": {},
   "outputs": [
    {
     "name": "stdout",
     "output_type": "stream",
     "text": [
      "Things aren't adding up in line 672.\n",
      "  Turn count: 12\n",
      "  Act count: 11\n",
      "  Feel count: 11\n",
      "\n"
     ]
    }
   ],
   "source": [
    "from codex_test import dd2tsv\n",
    "import re\n",
    "import numpy as np\n",
    "import pandas as pd\n",
    "import logging\n",
    "\n",
    "logger = logging.getLogger(__name__)\n",
    "\n",
    "dd2tsv('ijcnlp_dailydialog', 'dd.tsv')\n",
    "df = pd.read_csv('dd.tsv', sep='\\t', header=0)"
   ]
  },
  {
   "cell_type": "code",
   "execution_count": 6,
   "metadata": {},
   "outputs": [
    {
     "name": "stdout",
     "output_type": "stream",
     "text": [
      "Sents: 166254\n",
      "Tokens: 1437870\n",
      "Unique sents: 114967\n",
      "Vocab: 26362\n"
     ]
    }
   ],
   "source": [
    "from nltk.tokenize import sent_tokenize, word_tokenize\n",
    "from nltk.probability import FreqDist\n",
    "\n",
    "turns = list(turn for turn in df.turn.values.tolist())\n",
    "sents = []\n",
    "tokens = []\n",
    "\n",
    "for turn in turns:\n",
    "    turn_sents = list(sent for sent in sent_tokenize(turn))\n",
    "    turn_tokens = list(token for token in word_tokenize(turn))\n",
    "    for sent in turn_sents:\n",
    "        sents.append(sent)\n",
    "    for token in turn_tokens:\n",
    "        tokens.append(token)\n",
    "\n",
    "fd_sents = FreqDist()\n",
    "for sent in sents:\n",
    "    fd_sents[sent] += 1\n",
    "        \n",
    "fd_tokens = FreqDist()\n",
    "for token in tokens:\n",
    "    fd_tokens[token] += 1\n",
    "\n",
    "u_sents = set(sents)\n",
    "u_tokens = set(tokens)\n",
    "\n",
    "print(f'Sents: {len(sents)}\\nTokens: {len(tokens)}')\n",
    "print(f'Unique sents: {len(u_sents)}\\nVocab: {len(u_tokens)}')"
   ]
  },
  {
   "cell_type": "code",
   "execution_count": 13,
   "metadata": {},
   "outputs": [
    {
     "name": "stdout",
     "output_type": "stream",
     "text": [
      "10246\n",
      "0.007125818050310529\n",
      "0.7%\n",
      "['trip-the', 'course.Would', 'Warriors', 'Isis', 'Dial-up', 'totality', 'KC', 'suture']\n"
     ]
    }
   ],
   "source": [
    "from random import sample\n",
    "hapaxes = set(token for token in fd_tokens.hapaxes())\n",
    "\n",
    "print(len(hapaxes))\n",
    "print(len(hapaxes)/len(tokens))\n",
    "print(\"{:.1%}\".format(len(hapaxes)/len(tokens)))\n",
    "print(sample(hapaxes, 8))"
   ]
  },
  {
   "cell_type": "code",
   "execution_count": 14,
   "metadata": {},
   "outputs": [
    {
     "name": "stdout",
     "output_type": "stream",
     "text": [
      "179\n",
      "10425\n",
      "10456\n"
     ]
    }
   ],
   "source": [
    "from nltk.corpus import stopwords\n",
    "from string import punctuation\n",
    "\n",
    "stopset = set(stopwords.words('english'))\n",
    "print(len(stopset))\n",
    "\n",
    "stopset.update(hapaxes)\n",
    "print(len(stopset))\n",
    "\n",
    "punctuation = set(char for char in punctuation)\n",
    "stopset.update(punctuation)\n",
    "print(len(stopset))\n"
   ]
  },
  {
   "cell_type": "code",
   "execution_count": 30,
   "metadata": {},
   "outputs": [
    {
     "name": "stdout",
     "output_type": "stream",
     "text": [
      "['Would', 'you', 'care', 'for', 'a', 'drink', 'before', 'you', 'order', '?']\n"
     ]
    }
   ],
   "source": [
    "tokenized = list(word_tokenize(sent) for sent in sents)\n",
    "print(tokenized[100])\n",
    "\n",
    "filtered_sents = []\n",
    "for sent in sents:\n",
    "    tokenized = list(word_tokenize(sent))\n",
    "    filtered = list(token for token in tokenized if token not in stopset)\n",
    "    filtered_sents.append(filtered)\n"
   ]
  },
  {
   "cell_type": "code",
   "execution_count": 16,
   "metadata": {},
   "outputs": [
    {
     "name": "stdout",
     "output_type": "stream",
     "text": [
      "Dictionary(15947 unique tokens: ['The', 'kitchen', 'stinks', \"'ll\", 'I']...)\n"
     ]
    }
   ],
   "source": [
    "from gensim.corpora import Dictionary\n",
    "\n",
    "id2word = Dictionary(filtered_sents)\n",
    "print(id2word)"
   ]
  },
  {
   "cell_type": "code",
   "execution_count": 17,
   "metadata": {},
   "outputs": [
    {
     "name": "stdout",
     "output_type": "stream",
     "text": [
      "mostly\n"
     ]
    }
   ],
   "source": [
    "l = list(i for i in range(15000))\n",
    "print(id2word[sample(l,1)[0]])"
   ]
  },
  {
   "cell_type": "code",
   "execution_count": 19,
   "metadata": {},
   "outputs": [],
   "source": [
    "corpus = list(id2word.doc2bow(tokens) for tokens in filtered_sents)"
   ]
  },
  {
   "cell_type": "code",
   "execution_count": 20,
   "metadata": {},
   "outputs": [
    {
     "name": "stdout",
     "output_type": "stream",
     "text": [
      "166254\n"
     ]
    }
   ],
   "source": [
    "print(len(corpus))"
   ]
  },
  {
   "cell_type": "code",
   "execution_count": 21,
   "metadata": {},
   "outputs": [],
   "source": [
    "from gensim import corpora\n",
    "from gensim.models import Phrases\n",
    "corpora.MmCorpus.serialize('dd.mm', corpus)"
   ]
  },
  {
   "cell_type": "code",
   "execution_count": 22,
   "metadata": {},
   "outputs": [],
   "source": [
    "from gensim import models\n",
    "from gensim import similarities\n",
    "\n",
    "lsi = models.LsiModel(corpus, id2word=id2word, num_topics=10)\n",
    "corpus = corpora.MmCorpus('dd.mm')\n"
   ]
  },
  {
   "cell_type": "code",
   "execution_count": 23,
   "metadata": {},
   "outputs": [],
   "source": [
    "from gensim import similarities\n",
    "similarities.Similarity, similarities.MatrixSimilarity\n",
    "index = similarities.MatrixSimilarity(lsi[corpus])\n",
    "index.save('dd.index')\n"
   ]
  },
  {
   "cell_type": "code",
   "execution_count": 27,
   "metadata": {},
   "outputs": [],
   "source": [
    "similarities.MatrixSimilarity.load('dd.index')\n",
    "\n",
    "from codex_test import BookBinder\n",
    "from random import sample\n",
    "\n",
    "wild = BookBinder('wild.txt')\n",
    "wild = list(doc.strip('\\n') for doc in next(wild))\n",
    "test = sample(wild, 10)\n",
    "\n",
    "for doc in test:\n",
    "    vec = lsi[id2word.doc2bow(doc.lower().split())]\n",
    "    sims = index[vec]\n",
    "    sims = sorted(enumerate(sims), key=lambda x: -x[1])[0:10]"
   ]
  }
 ],
 "metadata": {
  "kernelspec": {
   "display_name": "Python 3",
   "language": "python",
   "name": "python3"
  },
  "language_info": {
   "codemirror_mode": {
    "name": "ipython",
    "version": 3
   },
   "file_extension": ".py",
   "mimetype": "text/x-python",
   "name": "python",
   "nbconvert_exporter": "python",
   "pygments_lexer": "ipython3",
   "version": "3.9.7"
  }
 },
 "nbformat": 4,
 "nbformat_minor": 2
}
