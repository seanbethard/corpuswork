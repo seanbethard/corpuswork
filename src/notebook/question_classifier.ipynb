{
 "cells": [
  {
   "cell_type": "code",
   "execution_count": 47,
   "metadata": {},
   "outputs": [
    {
     "name": "stdout",
     "output_type": "stream",
     "text": [
      "Collected 1952 samples from 8 classes\n"
     ]
    }
   ],
   "source": [
    "# get samples\n",
    "\n",
    "import csv\n",
    "\n",
    "pairs = []\n",
    "\n",
    "with open('data.csv') as csvfile:\n",
    "    reader = csv.reader(csvfile, delimiter=',')\n",
    "    rows = [row for row in reader]\n",
    "    pairs = [(row[1], row[3]) for row in rows[1:]]\n",
    "    \n",
    "labels = []\n",
    "for pair in pairs:\n",
    "    label = pair[1]\n",
    "    if label not in labels:\n",
    "        labels.append(label)\n",
    "                \n",
    "print(\"Collected %s samples from %s classes\" % (len(pairs), len(labels)))\n",
    "    "
   ]
  },
  {
   "cell_type": "code",
   "execution_count": 48,
   "metadata": {
    "scrolled": false
   },
   "outputs": [
    {
     "name": "stdout",
     "output_type": "stream",
     "text": [
      "Found 1626 samples after removing duplicates.\n",
      "description 243\n",
      "single-select 522\n",
      "rate 233\n",
      "multi-select 111\n",
      "textarea 443\n",
      "matrix-likert 62\n",
      "number 6\n",
      "rank 6\n"
     ]
    }
   ],
   "source": [
    "# remove duplicates\n",
    "\n",
    "d = {}\n",
    "\n",
    "sample_count = 0\n",
    "    \n",
    "for label in labels:\n",
    "    d[label] = []\n",
    "    for pair in pairs:\n",
    "        if pair[1] == label:\n",
    "            if pair[0] not in d[label]:\n",
    "                d[label].append(pair[0])\n",
    "                sample_count += 1\n",
    "                       \n",
    "print(\"Found %s samples after removing duplicates.\" % sample_count)\n",
    "for label in labels:\n",
    "        print(label, len(d[label]))\n"
   ]
  },
  {
   "cell_type": "code",
   "execution_count": 49,
   "metadata": {},
   "outputs": [],
   "source": [
    "# collect labels (question types)\n",
    "\n",
    "texts = []\n",
    "labels = []\n",
    "\n",
    "for key in d.keys():\n",
    "    for text in d[key]:\n",
    "        texts.append(text)\n",
    "        if key == \"description\":\n",
    "            labels.append(0)\n",
    "        elif key == \"single-select\":\n",
    "            labels.append(1)\n",
    "        elif key == \"rate\":\n",
    "            labels.append(2)\n",
    "        elif key == \"multi-select\":\n",
    "            labels.append(3)\n",
    "        elif key == \"textarea\":\n",
    "            labels.append(4)\n",
    "        elif key == \"matrix-likert\":\n",
    "            labels.append(5)\n",
    "        elif key == \"number\":\n",
    "            labels.append(6)\n",
    "        elif key == \"rank\":\n",
    "            labels.append(7)\n",
    "                "
   ]
  },
  {
   "cell_type": "code",
   "execution_count": 50,
   "metadata": {},
   "outputs": [
    {
     "name": "stdout",
     "output_type": "stream",
     "text": [
      "Found 2238 unique tokens.\n",
      "Shape of data tensor: (1626, 100)\n",
      "Shape of label tensor: (1626,)\n"
     ]
    }
   ],
   "source": [
    "from keras.preprocessing.text import Tokenizer\n",
    "from keras.preprocessing.sequence import pad_sequences\n",
    "from keras.utils import to_categorical\n",
    "import numpy as np\n",
    "\n",
    "maxlen = 100 # max number of tokens per text\n",
    "training_samples = 500\n",
    "validation_samples = 1000\n",
    "max_words = 10000 # only look at top 10,000 words in vocabulary\n",
    "\n",
    "tokenizer = Tokenizer(num_words=max_words)\n",
    "tokenizer.fit_on_texts(texts)\n",
    "sequences = tokenizer.texts_to_sequences(texts)\n",
    "\n",
    "word_index = tokenizer.word_index\n",
    "print('Found %s unique tokens.' % len(word_index))\n",
    "\n",
    "data = pad_sequences(sequences, maxlen=maxlen)\n",
    "labels = np.asarray(labels)\n",
    "print('Shape of data tensor:', data.shape)\n",
    "print('Shape of label tensor:', labels.shape)\n",
    "\n",
    "# samples are ordered, so shuffle them\n",
    "indices = np.arange(data.shape[0])\n",
    "np.random.shuffle(indices)\n",
    "\n",
    "data = data[indices]\n",
    "labels = labels[indices]\n",
    "x_train = data[:training_samples]\n",
    "x_val = data[training_samples: training_samples + validation_samples]\n",
    "\n",
    "# convert integer class vectors to binary class matrices\n",
    "# compatible with categorical cross entropy loss function\n",
    "y_train = to_categorical(labels[:training_samples])\n",
    "y_val = to_categorical(labels[training_samples: training_samples + validation_samples])\n",
    "\n"
   ]
  },
  {
   "cell_type": "code",
   "execution_count": 51,
   "metadata": {},
   "outputs": [
    {
     "name": "stdout",
     "output_type": "stream",
     "text": [
      "Found 400000 word vectors.\n"
     ]
    }
   ],
   "source": [
    "# not enough data to train task-specific embeddings\n",
    "# use pre-trained embeddings instead\n",
    "\n",
    "# build embedding index mapping words to their vector representation\n",
    "\n",
    "import os\n",
    "\n",
    "glove_dir = 'glove.6B'\n",
    "\n",
    "embeddings_index = {}\n",
    "\n",
    "f = open(os.path.join(glove_dir, 'glove.6B.100d.txt'))\n",
    "\n",
    "for line in f:\n",
    "    values = line.split()\n",
    "    word = values[0]\n",
    "    coefs = np.asarray(values[1:], dtype='float32')\n",
    "    embeddings_index[word] = coefs\n",
    "f.close()\n",
    "\n",
    "print('Found %s word vectors.' % len(embeddings_index))\n"
   ]
  },
  {
   "cell_type": "code",
   "execution_count": 52,
   "metadata": {},
   "outputs": [],
   "source": [
    "# build embedding matrix to load into embedding layer\n",
    "# 0 is a placeholder and does not represent any token\n",
    "\n",
    "embedding_dim = 100\n",
    "\n",
    "embedding_matrix = np.zeros((max_words, embedding_dim))\n",
    "for word, i in word_index.items():\n",
    "    embedding_vector = embeddings_index.get(word)\n",
    "    if i < max_words:\n",
    "        if embedding_vector is not None:\n",
    "            # Words not found in embedding index will be all-zeros.\n",
    "            embedding_matrix[i] = embedding_vector"
   ]
  },
  {
   "cell_type": "code",
   "execution_count": 54,
   "metadata": {},
   "outputs": [
    {
     "name": "stdout",
     "output_type": "stream",
     "text": [
      "_________________________________________________________________\n",
      "Layer (type)                 Output Shape              Param #   \n",
      "=================================================================\n",
      "embedding_6 (Embedding)      (None, 100, 100)          1000000   \n",
      "_________________________________________________________________\n",
      "flatten_6 (Flatten)          (None, 10000)             0         \n",
      "_________________________________________________________________\n",
      "dense_11 (Dense)             (None, 32)                320032    \n",
      "_________________________________________________________________\n",
      "dense_12 (Dense)             (None, 8)                 264       \n",
      "=================================================================\n",
      "Total params: 1,320,296\n",
      "Trainable params: 1,320,296\n",
      "Non-trainable params: 0\n",
      "_________________________________________________________________\n"
     ]
    }
   ],
   "source": [
    "# model definition\n",
    "\n",
    "from keras.models import Sequential\n",
    "from keras.layers import Embedding, Flatten, Dense\n",
    "model = Sequential()\n",
    "model.add(Embedding(max_words, embedding_dim, input_length=maxlen))\n",
    "model.add(Flatten())\n",
    "model.add(Dense(32, activation='relu'))\n",
    "model.add(Dense(8, activation='sigmoid'))\n",
    "model.summary()\n"
   ]
  },
  {
   "cell_type": "code",
   "execution_count": 56,
   "metadata": {},
   "outputs": [],
   "source": [
    "# load embedding matrix into embedding layer\n",
    "# freeze embedding layer\n",
    "\n",
    "model.layers[0].set_weights([embedding_matrix])\n",
    "model.layers[0].trainable = False"
   ]
  },
  {
   "cell_type": "code",
   "execution_count": 57,
   "metadata": {},
   "outputs": [
    {
     "name": "stdout",
     "output_type": "stream",
     "text": [
      "Train on 500 samples, validate on 1000 samples\n",
      "Epoch 1/10\n",
      "500/500 [==============================] - 1s 1ms/step - loss: 1.7351 - acc: 0.2240 - val_loss: 1.5958 - val_acc: 0.3030\n",
      "Epoch 2/10\n",
      "500/500 [==============================] - 0s 344us/step - loss: 1.3559 - acc: 0.3760 - val_loss: 1.5477 - val_acc: 0.3640\n",
      "Epoch 3/10\n",
      "500/500 [==============================] - 0s 362us/step - loss: 1.0813 - acc: 0.5780 - val_loss: 1.4770 - val_acc: 0.4600\n",
      "Epoch 4/10\n",
      "500/500 [==============================] - 0s 416us/step - loss: 0.8303 - acc: 0.7080 - val_loss: 1.4469 - val_acc: 0.4930\n",
      "Epoch 5/10\n",
      "500/500 [==============================] - 0s 369us/step - loss: 0.6006 - acc: 0.8100 - val_loss: 1.4773 - val_acc: 0.4880\n",
      "Epoch 6/10\n",
      "500/500 [==============================] - 0s 370us/step - loss: 0.4931 - acc: 0.8560 - val_loss: 1.7423 - val_acc: 0.4690\n",
      "Epoch 7/10\n",
      "500/500 [==============================] - 0s 369us/step - loss: 0.3820 - acc: 0.9040 - val_loss: 1.5892 - val_acc: 0.4920\n",
      "Epoch 8/10\n",
      "500/500 [==============================] - 0s 356us/step - loss: 0.3039 - acc: 0.9400 - val_loss: 1.6288 - val_acc: 0.5170\n",
      "Epoch 9/10\n",
      "500/500 [==============================] - 0s 343us/step - loss: 0.2529 - acc: 0.9540 - val_loss: 1.6516 - val_acc: 0.5040\n",
      "Epoch 10/10\n",
      "500/500 [==============================] - 0s 321us/step - loss: 0.2047 - acc: 0.9620 - val_loss: 1.6764 - val_acc: 0.5230\n"
     ]
    }
   ],
   "source": [
    "\n",
    "model.compile(optimizer='rmsprop',\n",
    "             loss='categorical_crossentropy',\n",
    "             metrics=['accuracy'])\n",
    "history = model.fit(x_train, y_train,\n",
    "                   epochs=10,\n",
    "                   batch_size=32,\n",
    "                   validation_data=(x_val, y_val))\n",
    "model.save_weights('pre_trained_glove_model.h5')"
   ]
  },
  {
   "cell_type": "code",
   "execution_count": 58,
   "metadata": {},
   "outputs": [
    {
     "data": {
      "image/png": "[encoded data removed]",
      "text/plain": [
       "<Figure size 432x288 with 1 Axes>"
      ]
     },
     "metadata": {
      "needs_background": "light"
     },
     "output_type": "display_data"
    },
    {
     "data": {
      "image/png": "[encoded data removed]",
      "text/plain": [
       "<Figure size 432x288 with 1 Axes>"
      ]
     },
     "metadata": {
      "needs_background": "light"
     },
     "output_type": "display_data"
    }
   ],
   "source": [
    "import matplotlib.pyplot as plt\n",
    "\n",
    "%matplotlib inline\n",
    "\n",
    "acc = history.history['acc']\n",
    "val_acc = history.history['val_acc']\n",
    "loss = history.history['loss']\n",
    "val_loss = history.history['val_loss']\n",
    "\n",
    "epochs = range(1, len(acc) + 1)\n",
    "\n",
    "plt.plot(epochs, acc, 'bo', label='Training accuracy')\n",
    "plt.plot(epochs, val_acc, 'b', label='Validation accuracy')\n",
    "plt.title('Training and validation accuracy')\n",
    "plt.legend()\n",
    "\n",
    "plt.figure()\n",
    "\n",
    "plt.plot(epochs, loss, 'bo', label='Training loss')\n",
    "plt.plot(epochs, val_loss, 'b', label='Validation loss')\n",
    "plt.title('Training and validation loss')\n",
    "plt.legend()\n",
    "plt.show()\n"
   ]
  }
 ],
 "metadata": {
  "kernelspec": {
   "display_name": "Python 3",
   "language": "python",
   "name": "python3"
  },
  "language_info": {
   "codemirror_mode": {
    "name": "ipython",
    "version": 3
   },
   "file_extension": ".py",
   "mimetype": "text/x-python",
   "name": "python",
   "nbconvert_exporter": "python",
   "pygments_lexer": "ipython3",
   "version": "3.7.4"
  }
 },
 "nbformat": 4,
 "nbformat_minor": 2
}
